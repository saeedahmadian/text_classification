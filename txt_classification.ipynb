{
    "nbformat_minor": 1, 
    "cells": [
        {
            "source": "!git clone https://github.com/saeedahmadian/sample_data.git", 
            "cell_type": "code", 
            "execution_count": 1, 
            "outputs": [
                {
                    "output_type": "stream", 
                    "name": "stdout", 
                    "text": "Waiting for a Spark session to start...\nSpark Initialization Done! ApplicationId = app-20190917161826-0000\nKERNEL_ID = 6de882d8-0326-43e4-a3cd-4968c72134f1\nCloning into 'sample_data'...\nremote: Enumerating objects: 14, done.\u001b[K\nremote: Counting objects: 100% (14/14), done.\u001b[K\nremote: Compressing objects: 100% (12/12), done.\u001b[K\nremote: Total 14 (delta 2), reused 0 (delta 0), pack-reused 0\u001b[K\nUnpacking objects: 100% (14/14), done.\n"
                }
            ], 
            "metadata": {}
        }, 
        {
            "source": "!ls sample_data/text_proc", 
            "cell_type": "code", 
            "execution_count": 9, 
            "outputs": [
                {
                    "output_type": "stream", 
                    "name": "stdout", 
                    "text": "test.csv.zip  train.csv.zip\r\n"
                }
            ], 
            "metadata": {}
        }, 
        {
            "source": "!unzip -d ~/ sample_data/text_proc/train.csv.zip", 
            "cell_type": "code", 
            "execution_count": 22, 
            "outputs": [
                {
                    "output_type": "stream", 
                    "name": "stdout", 
                    "text": "Archive:  sample_data/text_proc/train.csv.zip\nreplace /home/spark/shared/train.csv? [y]es, [n]o, [A]ll, [N]one, [r]ename: ^C\n"
                }
            ], 
            "metadata": {}
        }, 
        {
            "source": "df_data = spark.read\\\n  .format('org.apache.spark.sql.execution.datasources.csv.CSVFileFormat')\\\n  .option('header', 'true')\\\n  .option('inferSchema', 'true')\\\n  .option('nanValue', ' ')\\\n  .option('nullValue', ' ')\\\n  .load('train.csv')", 
            "cell_type": "code", 
            "execution_count": 25, 
            "outputs": [], 
            "metadata": {}
        }, 
        {
            "source": "df_data.printSchema", 
            "cell_type": "code", 
            "execution_count": 27, 
            "outputs": [
                {
                    "output_type": "execute_result", 
                    "metadata": {}, 
                    "data": {
                        "text/plain": "<bound method DataFrame.printSchema of DataFrame[Dates: timestamp, Category: string, Descript: string, DayOfWeek: string, PdDistrict: string, Resolution: string, Address: string, X: double, Y: double]>"
                    }, 
                    "execution_count": 27
                }
            ], 
            "metadata": {}
        }, 
        {
            "source": "drop_list = ['Dates', 'DayOfWeek', 'PdDistrict', 'Resolution', 'Address', 'X', 'Y']\ndata = df_data.select([column for column in df_data.columns if column not in drop_list])\ndata.show(10)", 
            "cell_type": "code", 
            "execution_count": 30, 
            "outputs": [
                {
                    "output_type": "stream", 
                    "name": "stdout", 
                    "text": "+--------------+--------------------+\n|      Category|            Descript|\n+--------------+--------------------+\n|      WARRANTS|      WARRANT ARREST|\n|OTHER OFFENSES|TRAFFIC VIOLATION...|\n|OTHER OFFENSES|TRAFFIC VIOLATION...|\n| LARCENY/THEFT|GRAND THEFT FROM ...|\n| LARCENY/THEFT|GRAND THEFT FROM ...|\n| LARCENY/THEFT|GRAND THEFT FROM ...|\n| VEHICLE THEFT|   STOLEN AUTOMOBILE|\n| VEHICLE THEFT|   STOLEN AUTOMOBILE|\n| LARCENY/THEFT|GRAND THEFT FROM ...|\n| LARCENY/THEFT|GRAND THEFT FROM ...|\n+--------------+--------------------+\nonly showing top 10 rows\n\n"
                }
            ], 
            "metadata": {}
        }, 
        {
            "source": "from pyspark.sql.functions import col\ndata.groupBy(\"Category\") \\\n    .count() \\\n    .orderBy(col(\"count\").desc()) \\\n    .show()", 
            "cell_type": "code", 
            "execution_count": 31, 
            "outputs": [
                {
                    "output_type": "stream", 
                    "name": "stdout", 
                    "text": "+--------------------+------+\n|            Category| count|\n+--------------------+------+\n|       LARCENY/THEFT|174900|\n|      OTHER OFFENSES|126182|\n|        NON-CRIMINAL| 92304|\n|             ASSAULT| 76876|\n|       DRUG/NARCOTIC| 53971|\n|       VEHICLE THEFT| 53781|\n|           VANDALISM| 44725|\n|            WARRANTS| 42214|\n|            BURGLARY| 36755|\n|      SUSPICIOUS OCC| 31414|\n|      MISSING PERSON| 25989|\n|             ROBBERY| 23000|\n|               FRAUD| 16679|\n|FORGERY/COUNTERFE...| 10609|\n|     SECONDARY CODES|  9985|\n|         WEAPON LAWS|  8555|\n|        PROSTITUTION|  7484|\n|            TRESPASS|  7326|\n|     STOLEN PROPERTY|  4540|\n|SEX OFFENSES FORC...|  4388|\n+--------------------+------+\nonly showing top 20 rows\n\n"
                }
            ], 
            "metadata": {}
        }, 
        {
            "source": "data.groupBy(\"Descript\") \\\n    .count() \\\n    .orderBy(col(\"count\").desc()) \\\n    .show()", 
            "cell_type": "code", 
            "execution_count": 32, 
            "outputs": [
                {
                    "output_type": "stream", 
                    "name": "stdout", 
                    "text": "+--------------------+-----+\n|            Descript|count|\n+--------------------+-----+\n|GRAND THEFT FROM ...|60022|\n|       LOST PROPERTY|31729|\n|             BATTERY|27441|\n|   STOLEN AUTOMOBILE|26897|\n|DRIVERS LICENSE, ...|26839|\n|      WARRANT ARREST|23754|\n|SUSPICIOUS OCCURR...|21891|\n|AIDED CASE, MENTA...|21497|\n|PETTY THEFT FROM ...|19771|\n|MALICIOUS MISCHIE...|17789|\n|   TRAFFIC VIOLATION|16471|\n|PETTY THEFT OF PR...|16196|\n|MALICIOUS MISCHIE...|15957|\n|THREATS AGAINST LIFE|14716|\n|      FOUND PROPERTY|12146|\n|ENROUTE TO OUTSID...|11470|\n|GRAND THEFT OF PR...|11010|\n|POSSESSION OF NAR...|10050|\n|PETTY THEFT FROM ...|10029|\n|PETTY THEFT SHOPL...| 9571|\n+--------------------+-----+\nonly showing top 20 rows\n\n"
                }
            ], 
            "metadata": {}
        }, 
        {
            "source": "from pyspark.ml.feature import RegexTokenizer, StopWordsRemover, CountVectorizer\nfrom pyspark.ml.feature import StringIndexer\nfrom pyspark.ml import Pipeline as pl\nfrom pyspark.ml.classification import LogisticRegression\n# regular expression tokenizer\nregexTokenizer = RegexTokenizer(inputCol=\"Descript\", outputCol=\"words\", pattern=\"\\\\W\")\n# stop words\nadd_stopwords = [\"http\",\"https\",\"amp\",\"rt\",\"t\",\"c\",\"the\"] \nstopwordsRemover = StopWordsRemover(inputCol=\"words\", outputCol=\"filtered\").setStopWords(add_stopwords)\n# bag of words count\ncountVectors = CountVectorizer(inputCol=\"filtered\", outputCol=\"features\", vocabSize=10000, minDF=5)\nindexer = StringIndexer(inputCol=\"Category\", outputCol=\"label\")\ntext_pipeline = pl(stages=[regexTokenizer,stopwordsRemover,countVectors,indexer])\nnew_data = text_pipeline.fit(data).transform(data)\nnew_data.show()", 
            "cell_type": "code", 
            "execution_count": 36, 
            "outputs": [
                {
                    "output_type": "stream", 
                    "name": "stdout", 
                    "text": "+--------------+--------------------+--------------------+--------------------+--------------------+-----+\n|      Category|            Descript|               words|            filtered|            features|label|\n+--------------+--------------------+--------------------+--------------------+--------------------+-----+\n|      WARRANTS|      WARRANT ARREST|   [warrant, arrest]|   [warrant, arrest]|(809,[17,32],[1.0...|  7.0|\n|OTHER OFFENSES|TRAFFIC VIOLATION...|[traffic, violati...|[traffic, violati...|(809,[11,17,35],[...|  1.0|\n|OTHER OFFENSES|TRAFFIC VIOLATION...|[traffic, violati...|[traffic, violati...|(809,[11,17,35],[...|  1.0|\n| LARCENY/THEFT|GRAND THEFT FROM ...|[grand, theft, fr...|[grand, theft, fr...|(809,[0,2,3,4,6],...|  0.0|\n| LARCENY/THEFT|GRAND THEFT FROM ...|[grand, theft, fr...|[grand, theft, fr...|(809,[0,2,3,4,6],...|  0.0|\n| LARCENY/THEFT|GRAND THEFT FROM ...|[grand, theft, fr...|[grand, theft, fr...|(809,[0,2,3,4,104...|  0.0|\n| VEHICLE THEFT|   STOLEN AUTOMOBILE|[stolen, automobile]|[stolen, automobile]|(809,[8,28],[1.0,...|  5.0|\n| VEHICLE THEFT|   STOLEN AUTOMOBILE|[stolen, automobile]|[stolen, automobile]|(809,[8,28],[1.0,...|  5.0|\n| LARCENY/THEFT|GRAND THEFT FROM ...|[grand, theft, fr...|[grand, theft, fr...|(809,[0,2,3,4,6],...|  0.0|\n| LARCENY/THEFT|GRAND THEFT FROM ...|[grand, theft, fr...|[grand, theft, fr...|(809,[0,2,3,4,6],...|  0.0|\n| LARCENY/THEFT|PETTY THEFT FROM ...|[petty, theft, fr...|[petty, theft, fr...|(809,[0,2,4,6,7],...|  0.0|\n|OTHER OFFENSES|MISCELLANEOUS INV...|[miscellaneous, i...|[miscellaneous, i...|(809,[70,88],[1.0...|  1.0|\n|     VANDALISM|MALICIOUS MISCHIE...|[malicious, misch...|[malicious, misch...|(809,[1,13,14,21,...|  6.0|\n| LARCENY/THEFT|GRAND THEFT FROM ...|[grand, theft, fr...|[grand, theft, fr...|(809,[0,2,3,4,6],...|  0.0|\n|  NON-CRIMINAL|      FOUND PROPERTY|   [found, property]|   [found, property]|(809,[5,36],[1.0,...|  2.0|\n|  NON-CRIMINAL|      FOUND PROPERTY|   [found, property]|   [found, property]|(809,[5,36],[1.0,...|  2.0|\n|       ROBBERY|ROBBERY, ARMED WI...|[robbery, armed, ...|[robbery, armed, ...|(809,[9,18,33,126...| 11.0|\n|       ASSAULT|AGGRAVATED ASSAUL...|[aggravated, assa...|[aggravated, assa...|(809,[18,48,52,58...|  3.0|\n|OTHER OFFENSES|   TRAFFIC VIOLATION|[traffic, violation]|[traffic, violation]|(809,[11,35],[1.0...|  1.0|\n|  NON-CRIMINAL|      FOUND PROPERTY|   [found, property]|   [found, property]|(809,[5,36],[1.0,...|  2.0|\n+--------------+--------------------+--------------------+--------------------+--------------------+-----+\nonly showing top 20 rows\n\n"
                }
            ], 
            "metadata": {}
        }, 
        {
            "source": "## https://spark.apache.org/docs/2.1.1/api/python/pyspark.ml.html#pyspark.ml.classification.LogisticRegressionModel", 
            "cell_type": "markdown", 
            "metadata": {}
        }, 
        {
            "source": "train,test=new_data.randomSplit([0.8, 0.2],seed=100)\ntrain.show()", 
            "cell_type": "code", 
            "execution_count": 65, 
            "outputs": [
                {
                    "output_type": "stream", 
                    "name": "stdout", 
                    "text": "+--------+--------+-------+--------+-----------------+-----+\n|Category|Descript|  words|filtered|         features|label|\n+--------+--------+-------+--------+-----------------+-----+\n|   ARSON|   ARSON|[arson]| [arson]|(809,[200],[1.0])| 27.0|\n|   ARSON|   ARSON|[arson]| [arson]|(809,[200],[1.0])| 27.0|\n|   ARSON|   ARSON|[arson]| [arson]|(809,[200],[1.0])| 27.0|\n|   ARSON|   ARSON|[arson]| [arson]|(809,[200],[1.0])| 27.0|\n|   ARSON|   ARSON|[arson]| [arson]|(809,[200],[1.0])| 27.0|\n|   ARSON|   ARSON|[arson]| [arson]|(809,[200],[1.0])| 27.0|\n|   ARSON|   ARSON|[arson]| [arson]|(809,[200],[1.0])| 27.0|\n|   ARSON|   ARSON|[arson]| [arson]|(809,[200],[1.0])| 27.0|\n|   ARSON|   ARSON|[arson]| [arson]|(809,[200],[1.0])| 27.0|\n|   ARSON|   ARSON|[arson]| [arson]|(809,[200],[1.0])| 27.0|\n|   ARSON|   ARSON|[arson]| [arson]|(809,[200],[1.0])| 27.0|\n|   ARSON|   ARSON|[arson]| [arson]|(809,[200],[1.0])| 27.0|\n|   ARSON|   ARSON|[arson]| [arson]|(809,[200],[1.0])| 27.0|\n|   ARSON|   ARSON|[arson]| [arson]|(809,[200],[1.0])| 27.0|\n|   ARSON|   ARSON|[arson]| [arson]|(809,[200],[1.0])| 27.0|\n|   ARSON|   ARSON|[arson]| [arson]|(809,[200],[1.0])| 27.0|\n|   ARSON|   ARSON|[arson]| [arson]|(809,[200],[1.0])| 27.0|\n|   ARSON|   ARSON|[arson]| [arson]|(809,[200],[1.0])| 27.0|\n|   ARSON|   ARSON|[arson]| [arson]|(809,[200],[1.0])| 27.0|\n|   ARSON|   ARSON|[arson]| [arson]|(809,[200],[1.0])| 27.0|\n+--------+--------+-------+--------+-----------------+-----+\nonly showing top 20 rows\n\n"
                }
            ], 
            "metadata": {}
        }, 
        {
            "source": "LR = LogisticRegression(maxIter=20, regParam=0.3, elasticNetParam=0).setFeaturesCol('features').setLabelCol('label').setPredictionCol('prediction')\nmodel= LR.fit(train)", 
            "cell_type": "code", 
            "execution_count": 66, 
            "outputs": [], 
            "metadata": {}
        }, 
        {
            "source": "# model = LogisticRegression(maxIter=20, regParam=0.3, elasticNetParam=0,\n#                           featuresCol='features',labelCol='label',predictionCol='prediction')\n# # bias_predic= model.fit(new_data)", 
            "cell_type": "code", 
            "execution_count": 43, 
            "outputs": [], 
            "metadata": {}
        }, 
        {
            "source": "bias_predic= model.transform(train)\nvar_predic = model.transform(test) ", 
            "cell_type": "code", 
            "execution_count": 67, 
            "outputs": [], 
            "metadata": {}
        }, 
        {
            "source": "bias_predic.sample(.2,True).show(30)", 
            "cell_type": "code", 
            "execution_count": 81, 
            "outputs": [
                {
                    "output_type": "stream", 
                    "name": "stdout", 
                    "text": "+--------+--------+-------+--------+-----------------+-----+--------------------+--------------------+----------+\n|Category|Descript|  words|filtered|         features|label|       rawPrediction|         probability|prediction|\n+--------+--------+-------+--------+-----------------+-----+--------------------+--------------------+----------+\n|   ARSON|   ARSON|[arson]| [arson]|(809,[200],[1.0])| 27.0|[2.93349836385523...|[0.11471990211876...|       1.0|\n|   ARSON|   ARSON|[arson]| [arson]|(809,[200],[1.0])| 27.0|[2.93349836385523...|[0.11471990211876...|       1.0|\n|   ARSON|   ARSON|[arson]| [arson]|(809,[200],[1.0])| 27.0|[2.93349836385523...|[0.11471990211876...|       1.0|\n|   ARSON|   ARSON|[arson]| [arson]|(809,[200],[1.0])| 27.0|[2.93349836385523...|[0.11471990211876...|       1.0|\n|   ARSON|   ARSON|[arson]| [arson]|(809,[200],[1.0])| 27.0|[2.93349836385523...|[0.11471990211876...|       1.0|\n|   ARSON|   ARSON|[arson]| [arson]|(809,[200],[1.0])| 27.0|[2.93349836385523...|[0.11471990211876...|       1.0|\n|   ARSON|   ARSON|[arson]| [arson]|(809,[200],[1.0])| 27.0|[2.93349836385523...|[0.11471990211876...|       1.0|\n|   ARSON|   ARSON|[arson]| [arson]|(809,[200],[1.0])| 27.0|[2.93349836385523...|[0.11471990211876...|       1.0|\n|   ARSON|   ARSON|[arson]| [arson]|(809,[200],[1.0])| 27.0|[2.93349836385523...|[0.11471990211876...|       1.0|\n|   ARSON|   ARSON|[arson]| [arson]|(809,[200],[1.0])| 27.0|[2.93349836385523...|[0.11471990211876...|       1.0|\n|   ARSON|   ARSON|[arson]| [arson]|(809,[200],[1.0])| 27.0|[2.93349836385523...|[0.11471990211876...|       1.0|\n|   ARSON|   ARSON|[arson]| [arson]|(809,[200],[1.0])| 27.0|[2.93349836385523...|[0.11471990211876...|       1.0|\n|   ARSON|   ARSON|[arson]| [arson]|(809,[200],[1.0])| 27.0|[2.93349836385523...|[0.11471990211876...|       1.0|\n|   ARSON|   ARSON|[arson]| [arson]|(809,[200],[1.0])| 27.0|[2.93349836385523...|[0.11471990211876...|       1.0|\n|   ARSON|   ARSON|[arson]| [arson]|(809,[200],[1.0])| 27.0|[2.93349836385523...|[0.11471990211876...|       1.0|\n|   ARSON|   ARSON|[arson]| [arson]|(809,[200],[1.0])| 27.0|[2.93349836385523...|[0.11471990211876...|       1.0|\n|   ARSON|   ARSON|[arson]| [arson]|(809,[200],[1.0])| 27.0|[2.93349836385523...|[0.11471990211876...|       1.0|\n|   ARSON|   ARSON|[arson]| [arson]|(809,[200],[1.0])| 27.0|[2.93349836385523...|[0.11471990211876...|       1.0|\n|   ARSON|   ARSON|[arson]| [arson]|(809,[200],[1.0])| 27.0|[2.93349836385523...|[0.11471990211876...|       1.0|\n|   ARSON|   ARSON|[arson]| [arson]|(809,[200],[1.0])| 27.0|[2.93349836385523...|[0.11471990211876...|       1.0|\n|   ARSON|   ARSON|[arson]| [arson]|(809,[200],[1.0])| 27.0|[2.93349836385523...|[0.11471990211876...|       1.0|\n|   ARSON|   ARSON|[arson]| [arson]|(809,[200],[1.0])| 27.0|[2.93349836385523...|[0.11471990211876...|       1.0|\n|   ARSON|   ARSON|[arson]| [arson]|(809,[200],[1.0])| 27.0|[2.93349836385523...|[0.11471990211876...|       1.0|\n|   ARSON|   ARSON|[arson]| [arson]|(809,[200],[1.0])| 27.0|[2.93349836385523...|[0.11471990211876...|       1.0|\n|   ARSON|   ARSON|[arson]| [arson]|(809,[200],[1.0])| 27.0|[2.93349836385523...|[0.11471990211876...|       1.0|\n|   ARSON|   ARSON|[arson]| [arson]|(809,[200],[1.0])| 27.0|[2.93349836385523...|[0.11471990211876...|       1.0|\n|   ARSON|   ARSON|[arson]| [arson]|(809,[200],[1.0])| 27.0|[2.93349836385523...|[0.11471990211876...|       1.0|\n|   ARSON|   ARSON|[arson]| [arson]|(809,[200],[1.0])| 27.0|[2.93349836385523...|[0.11471990211876...|       1.0|\n|   ARSON|   ARSON|[arson]| [arson]|(809,[200],[1.0])| 27.0|[2.93349836385523...|[0.11471990211876...|       1.0|\n|   ARSON|   ARSON|[arson]| [arson]|(809,[200],[1.0])| 27.0|[2.93349836385523...|[0.11471990211876...|       1.0|\n+--------+--------+-------+--------+-----------------+-----+--------------------+--------------------+----------+\nonly showing top 30 rows\n\n"
                }
            ], 
            "metadata": {}
        }, 
        {
            "source": "var_predic.sample(.1,False).show()", 
            "cell_type": "code", 
            "execution_count": 73, 
            "outputs": [
                {
                    "output_type": "stream", 
                    "name": "stdout", 
                    "text": "+--------+--------------------+--------------------+--------------------+--------------------+-----+--------------------+--------------------+----------+\n|Category|            Descript|               words|            filtered|            features|label|       rawPrediction|         probability|prediction|\n+--------+--------------------+--------------------+--------------------+--------------------+-----+--------------------+--------------------+----------+\n|   ARSON|               ARSON|             [arson]|             [arson]|   (809,[200],[1.0])| 27.0|[2.93349836385523...|[0.11471990211876...|       1.0|\n|   ARSON|               ARSON|             [arson]|             [arson]|   (809,[200],[1.0])| 27.0|[2.93349836385523...|[0.11471990211876...|       1.0|\n|   ARSON|               ARSON|             [arson]|             [arson]|   (809,[200],[1.0])| 27.0|[2.93349836385523...|[0.11471990211876...|       1.0|\n|   ARSON|               ARSON|             [arson]|             [arson]|   (809,[200],[1.0])| 27.0|[2.93349836385523...|[0.11471990211876...|       1.0|\n|   ARSON|               ARSON|             [arson]|             [arson]|   (809,[200],[1.0])| 27.0|[2.93349836385523...|[0.11471990211876...|       1.0|\n|   ARSON|               ARSON|             [arson]|             [arson]|   (809,[200],[1.0])| 27.0|[2.93349836385523...|[0.11471990211876...|       1.0|\n|   ARSON|  ARSON OF A VEHICLE|[arson, of, a, ve...|[arson, of, a, ve...|(809,[1,9,25,200]...| 27.0|[3.03954058969755...|[0.12935210681029...|       0.0|\n|   ARSON|  ARSON OF A VEHICLE|[arson, of, a, ve...|[arson, of, a, ve...|(809,[1,9,25,200]...| 27.0|[3.03954058969755...|[0.12935210681029...|       0.0|\n|   ARSON|  ARSON OF A VEHICLE|[arson, of, a, ve...|[arson, of, a, ve...|(809,[1,9,25,200]...| 27.0|[3.03954058969755...|[0.12935210681029...|       0.0|\n|   ARSON|  ARSON OF A VEHICLE|[arson, of, a, ve...|[arson, of, a, ve...|(809,[1,9,25,200]...| 27.0|[3.03954058969755...|[0.12935210681029...|       0.0|\n|   ARSON|ARSON OF AN INHAB...|[arson, of, an, i...|[arson, of, an, i...|(809,[1,199,200,2...| 27.0|[2.58461767658879...|[0.08076857941992...|      27.0|\n| ASSAULT|AGGRAVATED ASSAUL...|[aggravated, assa...|[aggravated, assa...|(809,[1,48,52,58,...|  3.0|[2.52947864288679...|[0.02667034331153...|       3.0|\n| ASSAULT|AGGRAVATED ASSAUL...|[aggravated, assa...|[aggravated, assa...|(809,[9,18,48,52,...|  3.0|[2.90026799289593...|[0.03081504472628...|       3.0|\n| ASSAULT|AGGRAVATED ASSAUL...|[aggravated, assa...|[aggravated, assa...|(809,[9,18,48,52,...|  3.0|[2.90026799289593...|[0.03081504472628...|       3.0|\n| ASSAULT|AGGRAVATED ASSAUL...|[aggravated, assa...|[aggravated, assa...|(809,[9,18,48,52,...|  3.0|[2.90026799289593...|[0.03081504472628...|       3.0|\n| ASSAULT|AGGRAVATED ASSAUL...|[aggravated, assa...|[aggravated, assa...|(809,[9,18,48,52,...|  3.0|[2.90026799289593...|[0.03081504472628...|       3.0|\n| ASSAULT|AGGRAVATED ASSAUL...|[aggravated, assa...|[aggravated, assa...|(809,[9,18,48,52,...|  3.0|[2.90026799289593...|[0.03081504472628...|       3.0|\n| ASSAULT|AGGRAVATED ASSAUL...|[aggravated, assa...|[aggravated, assa...|(809,[9,18,48,52,...|  3.0|[2.90026799289593...|[0.03081504472628...|       3.0|\n| ASSAULT|AGGRAVATED ASSAUL...|[aggravated, assa...|[aggravated, assa...|(809,[9,18,48,52,...|  3.0|[2.90026799289593...|[0.03081504472628...|       3.0|\n| ASSAULT|AGGRAVATED ASSAUL...|[aggravated, assa...|[aggravated, assa...|(809,[9,18,48,52,...|  3.0|[2.90026799289593...|[0.03081504472628...|       3.0|\n+--------+--------------------+--------------------+--------------------+--------------------+-----+--------------------+--------------------+----------+\nonly showing top 20 rows\n\n"
                }
            ], 
            "metadata": {}
        }, 
        {
            "source": "from pyspark.ml.evaluation import MulticlassClassificationEvaluator\n\nevaluator = MulticlassClassificationEvaluator(predictionCol=\"prediction\", labelCol=\"label\",metricName=\"accuracy\")\n\n", 
            "cell_type": "code", 
            "execution_count": 68, 
            "outputs": [], 
            "metadata": {}
        }, 
        {
            "source": "train_acc = evaluator.evaluate(bias_predic)", 
            "cell_type": "code", 
            "execution_count": 69, 
            "outputs": [], 
            "metadata": {}
        }, 
        {
            "source": "train_acc", 
            "cell_type": "code", 
            "execution_count": 70, 
            "outputs": [
                {
                    "output_type": "execute_result", 
                    "metadata": {}, 
                    "data": {
                        "text/plain": "0.9782833903560584"
                    }, 
                    "execution_count": 70
                }
            ], 
            "metadata": {}
        }, 
        {
            "source": "test_acc = evaluator.evaluate(var_predic)", 
            "cell_type": "code", 
            "execution_count": 77, 
            "outputs": [], 
            "metadata": {}
        }, 
        {
            "source": "test_acc", 
            "cell_type": "code", 
            "execution_count": 78, 
            "outputs": [
                {
                    "output_type": "execute_result", 
                    "metadata": {}, 
                    "data": {
                        "text/plain": "0.9785741028579208"
                    }, 
                    "execution_count": 78
                }
            ], 
            "metadata": {}
        }, 
        {
            "source": "!unzip -d ~/ sample_data/text_proc/test.csv.zip", 
            "cell_type": "code", 
            "execution_count": 50, 
            "outputs": [
                {
                    "output_type": "stream", 
                    "name": "stdout", 
                    "text": "Archive:  sample_data/text_proc/test.csv.zip\n  inflating: /home/spark/shared/test.csv  \n"
                }
            ], 
            "metadata": {}
        }, 
        {
            "source": "test = spark.read\\\n  .format('org.apache.spark.sql.execution.datasources.csv.CSVFileFormat')\\\n  .option('header', 'true')\\\n  .option('inferSchema', 'true')\\\n  .option('nanValue', ' ')\\\n  .option('nullValue', ' ')\\\n  .load('test.csv')\ntest.show()", 
            "cell_type": "code", 
            "execution_count": 52, 
            "outputs": [
                {
                    "output_type": "stream", 
                    "name": "stdout", 
                    "text": "+---+-------------------+---------+----------+--------------------+-------------------+------------------+\n| Id|              Dates|DayOfWeek|PdDistrict|             Address|                  X|                 Y|\n+---+-------------------+---------+----------+--------------------+-------------------+------------------+\n|  0|2015-05-10 23:59:00|   Sunday|   BAYVIEW|2000 Block of THO...|-122.39958770418998|  37.7350510103906|\n|  1|2015-05-10 23:51:00|   Sunday|   BAYVIEW|  3RD ST / REVERE AV|  -122.391522893042|  37.7324323864471|\n|  2|2015-05-10 23:50:00|   Sunday|  NORTHERN|2000 Block of GOU...|  -122.426001954961|  37.7922124386284|\n|  3|2015-05-10 23:45:00|   Sunday| INGLESIDE|4700 Block of MIS...|  -122.437393972517|  37.7214120621391|\n|  4|2015-05-10 23:45:00|   Sunday| INGLESIDE|4700 Block of MIS...|  -122.437393972517|  37.7214120621391|\n|  5|2015-05-10 23:40:00|   Sunday|   TARAVAL|BROAD ST / CAPITO...|-122.45902362242902|  37.7131719025215|\n|  6|2015-05-10 23:30:00|   Sunday| INGLESIDE|100 Block of CHEN...|-122.42561645123001| 37.73935051446279|\n|  7|2015-05-10 23:30:00|   Sunday| INGLESIDE|200 Block of BANK...|-122.41265203979201|37.739750156312105|\n|  8|2015-05-10 23:10:00|   Sunday|   MISSION|2900 Block of 16T...|  -122.418700097043|  37.7651649409646|\n|  9|2015-05-10 23:10:00|   Sunday|   CENTRAL|TAYLOR ST / GREEN ST|  -122.413934584561|37.798886450641604|\n| 10|2015-05-10 23:00:00|   Sunday| INGLESIDE|100 Block of PERA...|-122.40860777448499|  37.7467873555673|\n| 11|2015-05-10 23:00:00|   Sunday|   MISSION|600 Block of FLOR...|  -122.411093822635|  37.7610475742041|\n| 12|2015-05-10 23:00:00|   Sunday|   MISSION|600 Block of FLOR...|  -122.411093822635|  37.7610475742041|\n| 13|2015-05-10 23:00:00|   Sunday|   CENTRAL|200 Block of VALL...|  -122.402130610278|  37.7993635026487|\n| 14|2015-05-10 23:00:00|   Sunday|   CENTRAL|JEFFERSON ST / HY...|  -122.420747467177|  37.8075877427735|\n| 15|2015-05-10 22:50:00|   Sunday|TENDERLOIN|GOLDEN GATE AV / ...|  -122.415508242782|  37.7816542806076|\n| 16|2015-05-10 22:36:00|   Sunday|   TARAVAL|1200 Block of OCE...|-122.45567852962401|  37.7237017394146|\n| 17|2015-05-10 22:00:00|   Sunday| INGLESIDE|1200 Block of GIR...|  -122.400298318649|  37.7171808374172|\n| 18|2015-05-10 22:00:00|   Sunday|  NORTHERN|1900 Block of FIL...|  -122.433668534709|   37.787708547267|\n| 19|2015-05-10 22:00:00|   Sunday|  NORTHERN|  GREEN ST / POLK ST|  -122.422149614358|  37.7978243786265|\n+---+-------------------+---------+----------+--------------------+-------------------+------------------+\nonly showing top 20 rows\n\n"
                }
            ], 
            "metadata": {}
        }, 
        {
            "source": "from pyspark.ml.feature import HashingTF,IDF\n\nhashingTF = HashingTF(inputCol=\"filtered\", outputCol=\"rawFeatures\", numFeatures=10000)\nidf = IDF(inputCol=\"rawFeatures\", outputCol=\"features\", minDocFreq=5) \npipeline = pl(stages=[regexTokenizer, stopwordsRemover, hashingTF, idf, indexer])\nnew_data =pipeline.fit(data).transform(data)", 
            "cell_type": "code", 
            "execution_count": 85, 
            "outputs": [], 
            "metadata": {}
        }, 
        {
            "source": "new_data.show()", 
            "cell_type": "code", 
            "execution_count": 86, 
            "outputs": [
                {
                    "output_type": "stream", 
                    "name": "stdout", 
                    "text": "+--------------+--------------------+--------------------+--------------------+--------------------+--------------------+-----+\n|      Category|            Descript|               words|            filtered|         rawFeatures|            features|label|\n+--------------+--------------------+--------------------+--------------------+--------------------+--------------------+-----+\n|      WARRANTS|      WARRANT ARREST|   [warrant, arrest]|   [warrant, arrest]|(10000,[2279,3942...|(10000,[2279,3942...|  7.0|\n|OTHER OFFENSES|TRAFFIC VIOLATION...|[traffic, violati...|[traffic, violati...|(10000,[604,3942,...|(10000,[604,3942,...|  1.0|\n|OTHER OFFENSES|TRAFFIC VIOLATION...|[traffic, violati...|[traffic, violati...|(10000,[604,3942,...|(10000,[604,3942,...|  1.0|\n| LARCENY/THEFT|GRAND THEFT FROM ...|[grand, theft, fr...|[grand, theft, fr...|(10000,[274,713,3...|(10000,[274,713,3...|  0.0|\n| LARCENY/THEFT|GRAND THEFT FROM ...|[grand, theft, fr...|[grand, theft, fr...|(10000,[274,713,3...|(10000,[274,713,3...|  0.0|\n| LARCENY/THEFT|GRAND THEFT FROM ...|[grand, theft, fr...|[grand, theft, fr...|(10000,[274,409,7...|(10000,[274,409,7...|  0.0|\n| VEHICLE THEFT|   STOLEN AUTOMOBILE|[stolen, automobile]|[stolen, automobile]|(10000,[4290,6182...|(10000,[4290,6182...|  5.0|\n| VEHICLE THEFT|   STOLEN AUTOMOBILE|[stolen, automobile]|[stolen, automobile]|(10000,[4290,6182...|(10000,[4290,6182...|  5.0|\n| LARCENY/THEFT|GRAND THEFT FROM ...|[grand, theft, fr...|[grand, theft, fr...|(10000,[274,713,3...|(10000,[274,713,3...|  0.0|\n| LARCENY/THEFT|GRAND THEFT FROM ...|[grand, theft, fr...|[grand, theft, fr...|(10000,[274,713,3...|(10000,[274,713,3...|  0.0|\n| LARCENY/THEFT|PETTY THEFT FROM ...|[petty, theft, fr...|[petty, theft, fr...|(10000,[274,3921,...|(10000,[274,3921,...|  0.0|\n|OTHER OFFENSES|MISCELLANEOUS INV...|[miscellaneous, i...|[miscellaneous, i...|(10000,[1572,6173...|(10000,[1572,6173...|  1.0|\n|     VANDALISM|MALICIOUS MISCHIE...|[malicious, misch...|[malicious, misch...|(10000,[1793,4017...|(10000,[1793,4017...|  6.0|\n| LARCENY/THEFT|GRAND THEFT FROM ...|[grand, theft, fr...|[grand, theft, fr...|(10000,[274,713,3...|(10000,[274,713,3...|  0.0|\n|  NON-CRIMINAL|      FOUND PROPERTY|   [found, property]|   [found, property]|(10000,[1955,2733...|(10000,[1955,2733...|  2.0|\n|  NON-CRIMINAL|      FOUND PROPERTY|   [found, property]|   [found, property]|(10000,[1955,2733...|(10000,[1955,2733...|  2.0|\n|       ROBBERY|ROBBERY, ARMED WI...|[robbery, armed, ...|[robbery, armed, ...|(10000,[164,3170,...|(10000,[164,3170,...| 11.0|\n|       ASSAULT|AGGRAVATED ASSAUL...|[aggravated, assa...|[aggravated, assa...|(10000,[5726,6611...|(10000,[5726,6611...|  3.0|\n|OTHER OFFENSES|   TRAFFIC VIOLATION|[traffic, violation]|[traffic, violation]|(10000,[604,4755]...|(10000,[604,4755]...|  1.0|\n|  NON-CRIMINAL|      FOUND PROPERTY|   [found, property]|   [found, property]|(10000,[1955,2733...|(10000,[1955,2733...|  2.0|\n+--------------+--------------------+--------------------+--------------------+--------------------+--------------------+-----+\nonly showing top 20 rows\n\n"
                }
            ], 
            "metadata": {}
        }, 
        {
            "source": "train,test=new_data.randomSplit([0.8,.2],seed=100)\ntrained_model=LR.fit(train)\nprediction=trained_model.transform(test)", 
            "cell_type": "code", 
            "execution_count": 89, 
            "outputs": [], 
            "metadata": {}
        }, 
        {
            "source": "prediction.sample(.1,True,seed=3000).show(40)", 
            "cell_type": "code", 
            "execution_count": 96, 
            "outputs": [
                {
                    "output_type": "stream", 
                    "name": "stdout", 
                    "text": "+--------+--------------------+--------------------+--------------------+--------------------+--------------------+-----+--------------------+--------------------+----------+\n|Category|            Descript|               words|            filtered|         rawFeatures|            features|label|       rawPrediction|         probability|prediction|\n+--------+--------------------+--------------------+--------------------+--------------------+--------------------+-----+--------------------+--------------------+----------+\n|   ARSON|               ARSON|             [arson]|             [arson]|(10000,[5156],[1.0])|(10000,[5156],[6....| 27.0|[2.94812455355073...|[0.11604759793934...|       1.0|\n|   ARSON|               ARSON|             [arson]|             [arson]|(10000,[5156],[1.0])|(10000,[5156],[6....| 27.0|[2.94812455355073...|[0.11604759793934...|       1.0|\n|   ARSON|               ARSON|             [arson]|             [arson]|(10000,[5156],[1.0])|(10000,[5156],[6....| 27.0|[2.94812455355073...|[0.11604759793934...|       1.0|\n|   ARSON|               ARSON|             [arson]|             [arson]|(10000,[5156],[1.0])|(10000,[5156],[6....| 27.0|[2.94812455355073...|[0.11604759793934...|       1.0|\n|   ARSON|               ARSON|             [arson]|             [arson]|(10000,[5156],[1.0])|(10000,[5156],[6....| 27.0|[2.94812455355073...|[0.11604759793934...|       1.0|\n|   ARSON|               ARSON|             [arson]|             [arson]|(10000,[5156],[1.0])|(10000,[5156],[6....| 27.0|[2.94812455355073...|[0.11604759793934...|       1.0|\n|   ARSON|               ARSON|             [arson]|             [arson]|(10000,[5156],[1.0])|(10000,[5156],[6....| 27.0|[2.94812455355073...|[0.11604759793934...|       1.0|\n|   ARSON|               ARSON|             [arson]|             [arson]|(10000,[5156],[1.0])|(10000,[5156],[6....| 27.0|[2.94812455355073...|[0.11604759793934...|       1.0|\n|   ARSON|               ARSON|             [arson]|             [arson]|(10000,[5156],[1.0])|(10000,[5156],[6....| 27.0|[2.94812455355073...|[0.11604759793934...|       1.0|\n|   ARSON|               ARSON|             [arson]|             [arson]|(10000,[5156],[1.0])|(10000,[5156],[6....| 27.0|[2.94812455355073...|[0.11604759793934...|       1.0|\n|   ARSON|               ARSON|             [arson]|             [arson]|(10000,[5156],[1.0])|(10000,[5156],[6....| 27.0|[2.94812455355073...|[0.11604759793934...|       1.0|\n|   ARSON|ARSON OF A COMMER...|[arson, of, a, co...|[arson, of, a, co...|(10000,[3170,4343...|(10000,[3170,4343...| 27.0|[3.59944042693977...|[0.21451494962043...|       0.0|\n|   ARSON|  ARSON OF A VEHICLE|[arson, of, a, ve...|[arson, of, a, ve...|(10000,[1158,3170...|(10000,[1158,3170...| 27.0|[3.05294622503979...|[0.13069330759828...|       0.0|\n|   ARSON|  ARSON OF A VEHICLE|[arson, of, a, ve...|[arson, of, a, ve...|(10000,[1158,3170...|(10000,[1158,3170...| 27.0|[3.05294622503979...|[0.13069330759828...|       0.0|\n|   ARSON|  ARSON OF A VEHICLE|[arson, of, a, ve...|[arson, of, a, ve...|(10000,[1158,3170...|(10000,[1158,3170...| 27.0|[3.05294622503979...|[0.13069330759828...|       0.0|\n|   ARSON|  ARSON OF A VEHICLE|[arson, of, a, ve...|[arson, of, a, ve...|(10000,[1158,3170...|(10000,[1158,3170...| 27.0|[3.05294622503979...|[0.13069330759828...|       0.0|\n|   ARSON|ARSON OF AN INHAB...|[arson, of, an, i...|[arson, of, an, i...|(10000,[4343,5156...|(10000,[4343,5156...| 27.0|[2.58342131422820...|[0.07974115064023...|      27.0|\n|   ARSON|ARSON OF AN INHAB...|[arson, of, an, i...|[arson, of, an, i...|(10000,[4343,5156...|(10000,[4343,5156...| 27.0|[2.58342131422820...|[0.07974115064023...|      27.0|\n|   ARSON|ARSON OF AN INHAB...|[arson, of, an, i...|[arson, of, an, i...|(10000,[4343,5156...|(10000,[4343,5156...| 27.0|[2.58342131422820...|[0.07974115064023...|      27.0|\n| ASSAULT|AGGRAVATED ASSAUL...|[aggravated, assa...|[aggravated, assa...|(10000,[1245,4343...|(10000,[1245,4343...|  3.0|[2.53955903740144...|[0.02717133337113...|       3.0|\n| ASSAULT|AGGRAVATED ASSAUL...|[aggravated, assa...|[aggravated, assa...|(10000,[1245,4343...|(10000,[1245,4343...|  3.0|[2.53955903740144...|[0.02717133337113...|       3.0|\n| ASSAULT|AGGRAVATED ASSAUL...|[aggravated, assa...|[aggravated, assa...|(10000,[3170,3559...|(10000,[3170,3559...|  3.0|[2.91625841435591...|[0.03157182738291...|       3.0|\n| ASSAULT|AGGRAVATED ASSAUL...|[aggravated, assa...|[aggravated, assa...|(10000,[3170,3559...|(10000,[3170,3559...|  3.0|[2.91625841435591...|[0.03157182738291...|       3.0|\n| ASSAULT|AGGRAVATED ASSAUL...|[aggravated, assa...|[aggravated, assa...|(10000,[3170,3559...|(10000,[3170,3559...|  3.0|[2.91625841435591...|[0.03157182738291...|       3.0|\n| ASSAULT|AGGRAVATED ASSAUL...|[aggravated, assa...|[aggravated, assa...|(10000,[3170,3559...|(10000,[3170,3559...|  3.0|[2.91625841435591...|[0.03157182738291...|       3.0|\n| ASSAULT|AGGRAVATED ASSAUL...|[aggravated, assa...|[aggravated, assa...|(10000,[3170,3559...|(10000,[3170,3559...|  3.0|[2.91625841435591...|[0.03157182738291...|       3.0|\n| ASSAULT|AGGRAVATED ASSAUL...|[aggravated, assa...|[aggravated, assa...|(10000,[3170,3559...|(10000,[3170,3559...|  3.0|[2.91625841435591...|[0.03157182738291...|       3.0|\n| ASSAULT|AGGRAVATED ASSAUL...|[aggravated, assa...|[aggravated, assa...|(10000,[3170,3559...|(10000,[3170,3559...|  3.0|[2.91625841435591...|[0.03157182738291...|       3.0|\n| ASSAULT|AGGRAVATED ASSAUL...|[aggravated, assa...|[aggravated, assa...|(10000,[3170,3559...|(10000,[3170,3559...|  3.0|[2.91625841435591...|[0.03157182738291...|       3.0|\n| ASSAULT|AGGRAVATED ASSAUL...|[aggravated, assa...|[aggravated, assa...|(10000,[3170,3559...|(10000,[3170,3559...|  3.0|[2.91625841435591...|[0.03157182738291...|       3.0|\n| ASSAULT|AGGRAVATED ASSAUL...|[aggravated, assa...|[aggravated, assa...|(10000,[3170,3559...|(10000,[3170,3559...|  3.0|[2.91625841435591...|[0.03157182738291...|       3.0|\n| ASSAULT|AGGRAVATED ASSAUL...|[aggravated, assa...|[aggravated, assa...|(10000,[3170,3559...|(10000,[3170,3559...|  3.0|[2.91625841435591...|[0.03157182738291...|       3.0|\n| ASSAULT|AGGRAVATED ASSAUL...|[aggravated, assa...|[aggravated, assa...|(10000,[3170,3559...|(10000,[3170,3559...|  3.0|[2.91625841435591...|[0.03157182738291...|       3.0|\n| ASSAULT|AGGRAVATED ASSAUL...|[aggravated, assa...|[aggravated, assa...|(10000,[3170,3559...|(10000,[3170,3559...|  3.0|[2.91625841435591...|[0.03157182738291...|       3.0|\n| ASSAULT|AGGRAVATED ASSAUL...|[aggravated, assa...|[aggravated, assa...|(10000,[3170,3559...|(10000,[3170,3559...|  3.0|[2.91625841435591...|[0.03157182738291...|       3.0|\n| ASSAULT|AGGRAVATED ASSAUL...|[aggravated, assa...|[aggravated, assa...|(10000,[3170,3559...|(10000,[3170,3559...|  3.0|[2.91625841435591...|[0.03157182738291...|       3.0|\n| ASSAULT|AGGRAVATED ASSAUL...|[aggravated, assa...|[aggravated, assa...|(10000,[3170,3559...|(10000,[3170,3559...|  3.0|[2.91625841435591...|[0.03157182738291...|       3.0|\n| ASSAULT|AGGRAVATED ASSAUL...|[aggravated, assa...|[aggravated, assa...|(10000,[3170,3559...|(10000,[3170,3559...|  3.0|[2.91625841435591...|[0.03157182738291...|       3.0|\n| ASSAULT|AGGRAVATED ASSAUL...|[aggravated, assa...|[aggravated, assa...|(10000,[3170,3559...|(10000,[3170,3559...|  3.0|[2.91625841435591...|[0.03157182738291...|       3.0|\n| ASSAULT|AGGRAVATED ASSAUL...|[aggravated, assa...|[aggravated, assa...|(10000,[3170,3559...|(10000,[3170,3559...|  3.0|[2.91625841435591...|[0.03157182738291...|       3.0|\n+--------+--------------------+--------------------+--------------------+--------------------+--------------------+-----+--------------------+--------------------+----------+\nonly showing top 40 rows\n\n"
                }
            ], 
            "metadata": {}
        }, 
        {
            "source": "prediction_acc = evaluator.evaluate(prediction)", 
            "cell_type": "code", 
            "execution_count": 91, 
            "outputs": [], 
            "metadata": {}
        }, 
        {
            "source": "prediction_acc", 
            "cell_type": "code", 
            "execution_count": 92, 
            "outputs": [
                {
                    "output_type": "execute_result", 
                    "metadata": {}, 
                    "data": {
                        "text/plain": "0.9783698846166937"
                    }, 
                    "execution_count": 92
                }
            ], 
            "metadata": {}
        }, 
        {
            "source": "from pyspark.ml.classification import DecisionTreeClassifier,RandomForestClassifier, LinearSVC, NaiveBayes\n# https://spark.apache.org/docs/2.0.0/api/python/pyspark.ml.html?highlight=random%20forest#pyspark.ml.classification.RandomForestClassifier\n\n# rndforest=RandomForestClassifier(self, featuresCol=\"features\", labelCol=\"label\", predictionCol=\"prediction\", probabilityCol=\"probability\", rawPredictionCol=\"rawPrediction\", maxDepth=5, maxBins=32, minInstancesPerNode=1,\n#                                  minInfoGain=0.0, maxMemoryInMB=256, cacheNodeIds=False, checkpointInterval=10, impurity=\"gini\", numTrees=20, featureSubsetStrategy=\"auto\", seed=None)\n\n# https://spark.apache.org/docs/2.0.0/api/python/pyspark.ml.html?highlight=random%20forest#pyspark.ml.classification.DecisionTreeClassifier\n# dct = DecisionTreeClassifier(self, featuresCol=\"features\", labelCol=\"label\", predictionCol=\"prediction\", probabilityCol=\"probability\", rawPredictionCol=\"rawPrediction\", maxDepth=5, maxBins=32, \n#                              minInstancesPerNode=1, minInfoGain=0.0, maxMemoryInMB=256, cacheNodeIds=False, checkpointInterval=10, impurity=\"gini\", seed=None)\n\n# NB = NaiveBayes(self, featuresCol=\"features\", labelCol=\"label\", predictionCol=\"prediction\", probabilityCol=\"probability\", rawPredictionCol=\"rawPrediction\", smoothing=1.0, modelType=\"multinomial\", thresholds=None)\nrdfo= RandomForestClassifier(numTrees=5,maxDepth=2)\ndct = DecisionTreeClassifier(maxDepth=2)\nNB = NaiveBayes(smoothing=1.0)\nSVC = LinearSVC(maxIter=10, regParam=0.1)\n\n", 
            "cell_type": "code", 
            "execution_count": 101, 
            "outputs": [], 
            "metadata": {}
        }, 
        {
            "source": "rdfo_model =rdfo.fit(train)", 
            "cell_type": "code", 
            "execution_count": 102, 
            "outputs": [
                {
                    "output_type": "error", 
                    "evalue": "", 
                    "traceback": [
                        "\u001b[0;31m---------------------------------------------------------------------------\u001b[0m", 
                        "\u001b[0;31mKeyboardInterrupt\u001b[0m                         Traceback (most recent call last)", 
                        "\u001b[0;32m<ipython-input-102-d012380536f1>\u001b[0m in \u001b[0;36m<module>\u001b[0;34m()\u001b[0m\n\u001b[0;32m----> 1\u001b[0;31m \u001b[0mrdfo_model\u001b[0m \u001b[0;34m=\u001b[0m\u001b[0mrdfo\u001b[0m\u001b[0;34m.\u001b[0m\u001b[0mfit\u001b[0m\u001b[0;34m(\u001b[0m\u001b[0mtrain\u001b[0m\u001b[0;34m)\u001b[0m\u001b[0;34m\u001b[0m\u001b[0;34m\u001b[0m\u001b[0m\n\u001b[0m", 
                        "\u001b[0;32m/opt/ibm/spark/python/pyspark/ml/base.py\u001b[0m in \u001b[0;36mfit\u001b[0;34m(self, dataset, params)\u001b[0m\n\u001b[1;32m    130\u001b[0m                 \u001b[0;32mreturn\u001b[0m \u001b[0mself\u001b[0m\u001b[0;34m.\u001b[0m\u001b[0mcopy\u001b[0m\u001b[0;34m(\u001b[0m\u001b[0mparams\u001b[0m\u001b[0;34m)\u001b[0m\u001b[0;34m.\u001b[0m\u001b[0m_fit\u001b[0m\u001b[0;34m(\u001b[0m\u001b[0mdataset\u001b[0m\u001b[0;34m)\u001b[0m\u001b[0;34m\u001b[0m\u001b[0;34m\u001b[0m\u001b[0m\n\u001b[1;32m    131\u001b[0m             \u001b[0;32melse\u001b[0m\u001b[0;34m:\u001b[0m\u001b[0;34m\u001b[0m\u001b[0;34m\u001b[0m\u001b[0m\n\u001b[0;32m--> 132\u001b[0;31m                 \u001b[0;32mreturn\u001b[0m \u001b[0mself\u001b[0m\u001b[0;34m.\u001b[0m\u001b[0m_fit\u001b[0m\u001b[0;34m(\u001b[0m\u001b[0mdataset\u001b[0m\u001b[0;34m)\u001b[0m\u001b[0;34m\u001b[0m\u001b[0;34m\u001b[0m\u001b[0m\n\u001b[0m\u001b[1;32m    133\u001b[0m         \u001b[0;32melse\u001b[0m\u001b[0;34m:\u001b[0m\u001b[0;34m\u001b[0m\u001b[0;34m\u001b[0m\u001b[0m\n\u001b[1;32m    134\u001b[0m             raise ValueError(\"Params must be either a param map or a list/tuple of param maps, \"\n", 
                        "\u001b[0;32m/opt/ibm/spark/python/pyspark/ml/wrapper.py\u001b[0m in \u001b[0;36m_fit\u001b[0;34m(self, dataset)\u001b[0m\n\u001b[1;32m    286\u001b[0m \u001b[0;34m\u001b[0m\u001b[0m\n\u001b[1;32m    287\u001b[0m     \u001b[0;32mdef\u001b[0m \u001b[0m_fit\u001b[0m\u001b[0;34m(\u001b[0m\u001b[0mself\u001b[0m\u001b[0;34m,\u001b[0m \u001b[0mdataset\u001b[0m\u001b[0;34m)\u001b[0m\u001b[0;34m:\u001b[0m\u001b[0;34m\u001b[0m\u001b[0;34m\u001b[0m\u001b[0m\n\u001b[0;32m--> 288\u001b[0;31m         \u001b[0mjava_model\u001b[0m \u001b[0;34m=\u001b[0m \u001b[0mself\u001b[0m\u001b[0;34m.\u001b[0m\u001b[0m_fit_java\u001b[0m\u001b[0;34m(\u001b[0m\u001b[0mdataset\u001b[0m\u001b[0;34m)\u001b[0m\u001b[0;34m\u001b[0m\u001b[0;34m\u001b[0m\u001b[0m\n\u001b[0m\u001b[1;32m    289\u001b[0m         \u001b[0mmodel\u001b[0m \u001b[0;34m=\u001b[0m \u001b[0mself\u001b[0m\u001b[0;34m.\u001b[0m\u001b[0m_create_model\u001b[0m\u001b[0;34m(\u001b[0m\u001b[0mjava_model\u001b[0m\u001b[0;34m)\u001b[0m\u001b[0;34m\u001b[0m\u001b[0;34m\u001b[0m\u001b[0m\n\u001b[1;32m    290\u001b[0m         \u001b[0;32mreturn\u001b[0m \u001b[0mself\u001b[0m\u001b[0;34m.\u001b[0m\u001b[0m_copyValues\u001b[0m\u001b[0;34m(\u001b[0m\u001b[0mmodel\u001b[0m\u001b[0;34m)\u001b[0m\u001b[0;34m\u001b[0m\u001b[0;34m\u001b[0m\u001b[0m\n", 
                        "\u001b[0;32m/opt/ibm/spark/python/pyspark/ml/wrapper.py\u001b[0m in \u001b[0;36m_fit_java\u001b[0;34m(self, dataset)\u001b[0m\n\u001b[1;32m    283\u001b[0m         \"\"\"\n\u001b[1;32m    284\u001b[0m         \u001b[0mself\u001b[0m\u001b[0;34m.\u001b[0m\u001b[0m_transfer_params_to_java\u001b[0m\u001b[0;34m(\u001b[0m\u001b[0;34m)\u001b[0m\u001b[0;34m\u001b[0m\u001b[0;34m\u001b[0m\u001b[0m\n\u001b[0;32m--> 285\u001b[0;31m         \u001b[0;32mreturn\u001b[0m \u001b[0mself\u001b[0m\u001b[0;34m.\u001b[0m\u001b[0m_java_obj\u001b[0m\u001b[0;34m.\u001b[0m\u001b[0mfit\u001b[0m\u001b[0;34m(\u001b[0m\u001b[0mdataset\u001b[0m\u001b[0;34m.\u001b[0m\u001b[0m_jdf\u001b[0m\u001b[0;34m)\u001b[0m\u001b[0;34m\u001b[0m\u001b[0;34m\u001b[0m\u001b[0m\n\u001b[0m\u001b[1;32m    286\u001b[0m \u001b[0;34m\u001b[0m\u001b[0m\n\u001b[1;32m    287\u001b[0m     \u001b[0;32mdef\u001b[0m \u001b[0m_fit\u001b[0m\u001b[0;34m(\u001b[0m\u001b[0mself\u001b[0m\u001b[0;34m,\u001b[0m \u001b[0mdataset\u001b[0m\u001b[0;34m)\u001b[0m\u001b[0;34m:\u001b[0m\u001b[0;34m\u001b[0m\u001b[0;34m\u001b[0m\u001b[0m\n", 
                        "\u001b[0;32m/opt/ibm/conda/miniconda3.6/lib/python3.6/site-packages/py4j/java_gateway.py\u001b[0m in \u001b[0;36m__call__\u001b[0;34m(self, *args)\u001b[0m\n\u001b[1;32m   1282\u001b[0m             \u001b[0mproto\u001b[0m\u001b[0;34m.\u001b[0m\u001b[0mEND_COMMAND_PART\u001b[0m\u001b[0;34m\u001b[0m\u001b[0;34m\u001b[0m\u001b[0m\n\u001b[1;32m   1283\u001b[0m \u001b[0;34m\u001b[0m\u001b[0m\n\u001b[0;32m-> 1284\u001b[0;31m         \u001b[0manswer\u001b[0m \u001b[0;34m=\u001b[0m \u001b[0mself\u001b[0m\u001b[0;34m.\u001b[0m\u001b[0mgateway_client\u001b[0m\u001b[0;34m.\u001b[0m\u001b[0msend_command\u001b[0m\u001b[0;34m(\u001b[0m\u001b[0mcommand\u001b[0m\u001b[0;34m)\u001b[0m\u001b[0;34m\u001b[0m\u001b[0;34m\u001b[0m\u001b[0m\n\u001b[0m\u001b[1;32m   1285\u001b[0m         return_value = get_return_value(\n\u001b[1;32m   1286\u001b[0m             answer, self.gateway_client, self.target_id, self.name)\n", 
                        "\u001b[0;32m/opt/ibm/conda/miniconda3.6/lib/python3.6/site-packages/py4j/java_gateway.py\u001b[0m in \u001b[0;36msend_command\u001b[0;34m(self, command, retry, binary)\u001b[0m\n\u001b[1;32m   1012\u001b[0m         \u001b[0mconnection\u001b[0m \u001b[0;34m=\u001b[0m \u001b[0mself\u001b[0m\u001b[0;34m.\u001b[0m\u001b[0m_get_connection\u001b[0m\u001b[0;34m(\u001b[0m\u001b[0;34m)\u001b[0m\u001b[0;34m\u001b[0m\u001b[0;34m\u001b[0m\u001b[0m\n\u001b[1;32m   1013\u001b[0m         \u001b[0;32mtry\u001b[0m\u001b[0;34m:\u001b[0m\u001b[0;34m\u001b[0m\u001b[0;34m\u001b[0m\u001b[0m\n\u001b[0;32m-> 1014\u001b[0;31m             \u001b[0mresponse\u001b[0m \u001b[0;34m=\u001b[0m \u001b[0mconnection\u001b[0m\u001b[0;34m.\u001b[0m\u001b[0msend_command\u001b[0m\u001b[0;34m(\u001b[0m\u001b[0mcommand\u001b[0m\u001b[0;34m)\u001b[0m\u001b[0;34m\u001b[0m\u001b[0;34m\u001b[0m\u001b[0m\n\u001b[0m\u001b[1;32m   1015\u001b[0m             \u001b[0;32mif\u001b[0m \u001b[0mbinary\u001b[0m\u001b[0;34m:\u001b[0m\u001b[0;34m\u001b[0m\u001b[0;34m\u001b[0m\u001b[0m\n\u001b[1;32m   1016\u001b[0m                 \u001b[0;32mreturn\u001b[0m \u001b[0mresponse\u001b[0m\u001b[0;34m,\u001b[0m \u001b[0mself\u001b[0m\u001b[0;34m.\u001b[0m\u001b[0m_create_connection_guard\u001b[0m\u001b[0;34m(\u001b[0m\u001b[0mconnection\u001b[0m\u001b[0;34m)\u001b[0m\u001b[0;34m\u001b[0m\u001b[0;34m\u001b[0m\u001b[0m\n", 
                        "\u001b[0;32m/opt/ibm/conda/miniconda3.6/lib/python3.6/site-packages/py4j/java_gateway.py\u001b[0m in \u001b[0;36msend_command\u001b[0;34m(self, command)\u001b[0m\n\u001b[1;32m   1179\u001b[0m \u001b[0;34m\u001b[0m\u001b[0m\n\u001b[1;32m   1180\u001b[0m         \u001b[0;32mtry\u001b[0m\u001b[0;34m:\u001b[0m\u001b[0;34m\u001b[0m\u001b[0;34m\u001b[0m\u001b[0m\n\u001b[0;32m-> 1181\u001b[0;31m             \u001b[0manswer\u001b[0m \u001b[0;34m=\u001b[0m \u001b[0msmart_decode\u001b[0m\u001b[0;34m(\u001b[0m\u001b[0mself\u001b[0m\u001b[0;34m.\u001b[0m\u001b[0mstream\u001b[0m\u001b[0;34m.\u001b[0m\u001b[0mreadline\u001b[0m\u001b[0;34m(\u001b[0m\u001b[0;34m)\u001b[0m\u001b[0;34m[\u001b[0m\u001b[0;34m:\u001b[0m\u001b[0;34m-\u001b[0m\u001b[0;36m1\u001b[0m\u001b[0;34m]\u001b[0m\u001b[0;34m)\u001b[0m\u001b[0;34m\u001b[0m\u001b[0;34m\u001b[0m\u001b[0m\n\u001b[0m\u001b[1;32m   1182\u001b[0m             \u001b[0mlogger\u001b[0m\u001b[0;34m.\u001b[0m\u001b[0mdebug\u001b[0m\u001b[0;34m(\u001b[0m\u001b[0;34m\"Answer received: {0}\"\u001b[0m\u001b[0;34m.\u001b[0m\u001b[0mformat\u001b[0m\u001b[0;34m(\u001b[0m\u001b[0manswer\u001b[0m\u001b[0;34m)\u001b[0m\u001b[0;34m)\u001b[0m\u001b[0;34m\u001b[0m\u001b[0;34m\u001b[0m\u001b[0m\n\u001b[1;32m   1183\u001b[0m             \u001b[0;32mif\u001b[0m \u001b[0manswer\u001b[0m\u001b[0;34m.\u001b[0m\u001b[0mstartswith\u001b[0m\u001b[0;34m(\u001b[0m\u001b[0mproto\u001b[0m\u001b[0;34m.\u001b[0m\u001b[0mRETURN_MESSAGE\u001b[0m\u001b[0;34m)\u001b[0m\u001b[0;34m:\u001b[0m\u001b[0;34m\u001b[0m\u001b[0;34m\u001b[0m\u001b[0m\n", 
                        "\u001b[0;32m/opt/ibm/conda/miniconda3.6/lib/python3.6/socket.py\u001b[0m in \u001b[0;36mreadinto\u001b[0;34m(self, b)\u001b[0m\n\u001b[1;32m    584\u001b[0m         \u001b[0;32mwhile\u001b[0m \u001b[0;32mTrue\u001b[0m\u001b[0;34m:\u001b[0m\u001b[0;34m\u001b[0m\u001b[0;34m\u001b[0m\u001b[0m\n\u001b[1;32m    585\u001b[0m             \u001b[0;32mtry\u001b[0m\u001b[0;34m:\u001b[0m\u001b[0;34m\u001b[0m\u001b[0;34m\u001b[0m\u001b[0m\n\u001b[0;32m--> 586\u001b[0;31m                 \u001b[0;32mreturn\u001b[0m \u001b[0mself\u001b[0m\u001b[0;34m.\u001b[0m\u001b[0m_sock\u001b[0m\u001b[0;34m.\u001b[0m\u001b[0mrecv_into\u001b[0m\u001b[0;34m(\u001b[0m\u001b[0mb\u001b[0m\u001b[0;34m)\u001b[0m\u001b[0;34m\u001b[0m\u001b[0;34m\u001b[0m\u001b[0m\n\u001b[0m\u001b[1;32m    587\u001b[0m             \u001b[0;32mexcept\u001b[0m \u001b[0mtimeout\u001b[0m\u001b[0;34m:\u001b[0m\u001b[0;34m\u001b[0m\u001b[0;34m\u001b[0m\u001b[0m\n\u001b[1;32m    588\u001b[0m                 \u001b[0mself\u001b[0m\u001b[0;34m.\u001b[0m\u001b[0m_timeout_occurred\u001b[0m \u001b[0;34m=\u001b[0m \u001b[0;32mTrue\u001b[0m\u001b[0;34m\u001b[0m\u001b[0;34m\u001b[0m\u001b[0m\n", 
                        "\u001b[0;31mKeyboardInterrupt\u001b[0m: "
                    ], 
                    "ename": "KeyboardInterrupt"
                }
            ], 
            "metadata": {}
        }, 
        {
            "source": "rdfo_model =rdfo.fit(train)\ndct_model =dct.fit(train)\nNB_model =NB.fit(train)\nSVC_model =SVC.fit(train)\n\nmodels = [rdfo_model,dct_model,NB_model,SVC_model]\nprediction= []\n\nfor model in models:\n    tmp =model.transform(test)\n    prediction.append(tmp)\n    print(\"prediction results for model {}\".format(str(m)))\n", 
            "cell_type": "code", 
            "execution_count": null, 
            "outputs": [], 
            "metadata": {}
        }, 
        {
            "source": "## Hyper Parameter tuning in Spark", 
            "cell_type": "markdown", 
            "metadata": {}
        }, 
        {
            "source": "from pyspark.ml.tuning import ParamGridBuilder, CrossValidator\n# Create ParamGrid for Cross Validation\nparamGrid = (ParamGridBuilder()\n             .addGrid(LR.regParam, [0.1, 0.3, 0.5]) # regularization parameter\n             .addGrid(LR.elasticNetParam, [0.0, 0.5, 1]) # Elastic Net Parameter (Ridge = 0)\n#            .addGrid(model.maxIter, [10, 20, 50]) #Number of iterations\n#            .addGrid(idf.numFeatures, [10, 100, 1000]) # Number of features\n             .build())\n# Create 5-fold CrossValidator\ncv = CrossValidator(estimator=LR, \\\n                    estimatorParamMaps=paramGrid, \\\n                    evaluator=evaluator, \\\n                    numFolds=5)\n\ntrained_model = cv.fit(train)\ntest_res = trained_model(test)\nevaluator.evaluate(test_res)", 
            "cell_type": "code", 
            "execution_count": null, 
            "outputs": [], 
            "metadata": {}
        }
    ], 
    "nbformat": 4, 
    "metadata": {
        "kernelspec": {
            "display_name": "Python 3.6 with Spark", 
            "name": "python36", 
            "language": "python3"
        }, 
        "language_info": {
            "mimetype": "text/x-python", 
            "nbconvert_exporter": "python", 
            "version": "3.6.8", 
            "name": "python", 
            "pygments_lexer": "ipython3", 
            "file_extension": ".py", 
            "codemirror_mode": {
                "version": 3, 
                "name": "ipython"
            }
        }
    }
}